{
  "nbformat": 4,
  "nbformat_minor": 0,
  "metadata": {
    "colab": {
      "name": "Fine tuning for livedoor-news-5class-classification by multilingual-BERT.ipynb",
      "provenance": [],
      "collapsed_sections": [],
      "machine_shape": "hm"
    },
    "language_info": {
      "codemirror_mode": {
        "name": "ipython",
        "version": 3
      },
      "file_extension": ".py",
      "mimetype": "text/x-python",
      "name": "python",
      "nbconvert_exporter": "python",
      "pygments_lexer": "ipython3",
      "version": "3.6.7"
    },
    "kernelspec": {
      "name": "python3",
      "display_name": "Python 3"
    },
    "accelerator": "TPU"
  },
  "cells": [
    {
      "cell_type": "markdown",
      "metadata": {
        "id": "VWgIg00VKisH"
      },
      "source": [
        "# livedoor-newsデータを用いた5クラスのニュース・タイトル判別問題を multilingual-BERTで90%超の精度を達成\n",
        "\n",
        "---\n",
        "\n"
      ]
    },
    {
      "cell_type": "markdown",
      "metadata": {
        "id": "zCUwykGJdBdV"
      },
      "source": [
        "# Fine tuning for livedoor-news-5class-classification by multilingual-BERT with accuracy of over 90%\n",
        "\n",
        "---\n",
        "\n"
      ]
    },
    {
      "cell_type": "markdown",
      "metadata": {
        "id": "latZr8iJa98G"
      },
      "source": [
        "## 1. ライブラリをインポートします\n",
        "\n",
        "\n"
      ]
    },
    {
      "cell_type": "markdown",
      "metadata": {
        "id": "aWry1gnsyOzO"
      },
      "source": [
        "## 1. Import library"
      ]
    },
    {
      "cell_type": "code",
      "execution_count": null,
      "metadata": {
        "colab": {
          "base_uri": "https://localhost:8080/",
          "height": 36
        },
        "id": "eoTArqviXjPS",
        "outputId": "c44751df-08e5-4a95-bd89-026a254076b7"
      },
      "outputs": [
        {
          "output_type": "execute_result",
          "data": {
            "text/plain": [
              "'2.8.0'"
            ],
            "application/vnd.google.colaboratory.intrinsic+json": {
              "type": "string"
            }
          },
          "metadata": {},
          "execution_count": 2
        }
      ],
      "source": [
        "import os\n",
        "import h5py\n",
        "import time\n",
        "import glob\n",
        "import json\n",
        "import csv\n",
        "import datetime\n",
        "import random\n",
        "import string\n",
        "import pickle\n",
        "import imageio\n",
        "import cv2\n",
        "import re\n",
        "import sys\n",
        "from tqdm import tqdm_notebook\n",
        "from PIL import Image\n",
        "import numpy as np\n",
        "import pandas as pd\n",
        "\n",
        "import tensorflow as tf\n",
        "import tensorflow_hub as hub\n",
        "from tensorflow import keras\n",
        "import tensorflow_text as text \n",
        "#from tensorflow_docs.vis import embed\n",
        "from tensorflow.keras import layers, Sequential, Input\n",
        "from tensorflow.keras.preprocessing.image import load_img, img_to_array, array_to_img\n",
        "from tensorflow.keras.layers import Activation, Dropout, Flatten, Dense, Lambda, GlobalAveragePooling2D\n",
        "from tensorflow.keras.models import Model\n",
        "from tensorflow.keras.utils import to_categorical\n",
        "\n",
        "from sklearn.model_selection import train_test_split\n",
        "from sklearn.neighbors import KNeighborsClassifier\n",
        "from sklearn.linear_model import LogisticRegression\n",
        "from sklearn.preprocessing import StandardScaler\n",
        "from sklearn.pipeline import Pipeline\n",
        "from sklearn.metrics import accuracy_score\n",
        "from sklearn import preprocessing\n",
        "from sklearn.metrics import roc_auc_score\n",
        "from sklearn.preprocessing import LabelEncoder\n",
        "from sklearn.feature_selection import VarianceThreshold\n",
        "from sklearn.metrics import roc_auc_score, roc_curve\n",
        "from sklearn.model_selection import KFold, StratifiedKFold\n",
        "\n",
        "import matplotlib\n",
        "import matplotlib.pyplot as plt\n",
        "import matplotlib.image as mpimg\n",
        "import matplotlib.cm as cm\n",
        "\n",
        "from IPython.display import Image\n",
        "%matplotlib inline\n",
        "\n",
        "tf.random.set_seed(200) \n",
        "\n",
        "tf.__version__"
      ]
    },
    {
      "cell_type": "markdown",
      "metadata": {
        "id": "fLtxM4w9AxRz"
      },
      "source": [
        "## 2. livedoor-news dataを取り込みます\n"
      ]
    },
    {
      "cell_type": "markdown",
      "metadata": {
        "id": "XutS5ea4bKGH"
      },
      "source": [
        "## 2. Load livedoor-news-data\n"
      ]
    },
    {
      "cell_type": "code",
      "source": [
        "train_df = pd.read_csv(\"train5.tsv\", delimiter='\\t', header=None, names=['label', 'title'])\n",
        "train_df"
      ],
      "metadata": {
        "colab": {
          "base_uri": "https://localhost:8080/",
          "height": 424
        },
        "id": "jj_ikMItJ2-1",
        "outputId": "e4cc6d5b-51d4-45a2-d1dd-3e65d315c053"
      },
      "execution_count": null,
      "outputs": [
        {
          "output_type": "execute_result",
          "data": {
            "text/plain": [
              "      label                                              title\n",
              "0         0  月額1,050円でSASディスクを搭載！クラウドプラン 「エクスライト（EX-LITE）」の...\n",
              "1         0             例のあのメニューも！ニコニコ超会議のフードコートメニュー14種類紹介（前半）\n",
              "2         1                山田孝之と小西真奈美の映画に撮影していない“あるモノ”が映り込んでいた\n",
              "3         0          ガガを聴きながら毎朝歯磨き！　レディー・ガガ　シンギングトゥースブラシ独占先行販売\n",
              "4         2                                    斎藤佑樹はプロで通用するのか？\n",
              "...     ...                                                ...\n",
              "3498      1       美女たちがドレスの競演をした東京国際映画祭！スケスケのシースルー衣装を着たセクシー女優も\n",
              "3499      2                   プロアマ問題に怒り心頭のノムさん、都知事選には「俺でもいけそう」\n",
              "3500      3                      【オトナ女子のリアルな悩み】バツイチでは恋はできませんか？\n",
              "3501      2                 丸山桂里奈、なでしこジャパンのゴールに笑顔なく「すごく複雑な気持ち」\n",
              "3502      2                            あまりにも美しい日本代表キャプテン、照準は世界\n",
              "\n",
              "[3503 rows x 2 columns]"
            ],
            "text/html": [
              "\n",
              "  <div id=\"df-68ecac9f-dd19-4e34-bbd0-4faaa0fdd26f\">\n",
              "    <div class=\"colab-df-container\">\n",
              "      <div>\n",
              "<style scoped>\n",
              "    .dataframe tbody tr th:only-of-type {\n",
              "        vertical-align: middle;\n",
              "    }\n",
              "\n",
              "    .dataframe tbody tr th {\n",
              "        vertical-align: top;\n",
              "    }\n",
              "\n",
              "    .dataframe thead th {\n",
              "        text-align: right;\n",
              "    }\n",
              "</style>\n",
              "<table border=\"1\" class=\"dataframe\">\n",
              "  <thead>\n",
              "    <tr style=\"text-align: right;\">\n",
              "      <th></th>\n",
              "      <th>label</th>\n",
              "      <th>title</th>\n",
              "    </tr>\n",
              "  </thead>\n",
              "  <tbody>\n",
              "    <tr>\n",
              "      <th>0</th>\n",
              "      <td>0</td>\n",
              "      <td>月額1,050円でSASディスクを搭載！クラウドプラン 「エクスライト（EX-LITE）」の...</td>\n",
              "    </tr>\n",
              "    <tr>\n",
              "      <th>1</th>\n",
              "      <td>0</td>\n",
              "      <td>例のあのメニューも！ニコニコ超会議のフードコートメニュー14種類紹介（前半）</td>\n",
              "    </tr>\n",
              "    <tr>\n",
              "      <th>2</th>\n",
              "      <td>1</td>\n",
              "      <td>山田孝之と小西真奈美の映画に撮影していない“あるモノ”が映り込んでいた</td>\n",
              "    </tr>\n",
              "    <tr>\n",
              "      <th>3</th>\n",
              "      <td>0</td>\n",
              "      <td>ガガを聴きながら毎朝歯磨き！　レディー・ガガ　シンギングトゥースブラシ独占先行販売</td>\n",
              "    </tr>\n",
              "    <tr>\n",
              "      <th>4</th>\n",
              "      <td>2</td>\n",
              "      <td>斎藤佑樹はプロで通用するのか？</td>\n",
              "    </tr>\n",
              "    <tr>\n",
              "      <th>...</th>\n",
              "      <td>...</td>\n",
              "      <td>...</td>\n",
              "    </tr>\n",
              "    <tr>\n",
              "      <th>3498</th>\n",
              "      <td>1</td>\n",
              "      <td>美女たちがドレスの競演をした東京国際映画祭！スケスケのシースルー衣装を着たセクシー女優も</td>\n",
              "    </tr>\n",
              "    <tr>\n",
              "      <th>3499</th>\n",
              "      <td>2</td>\n",
              "      <td>プロアマ問題に怒り心頭のノムさん、都知事選には「俺でもいけそう」</td>\n",
              "    </tr>\n",
              "    <tr>\n",
              "      <th>3500</th>\n",
              "      <td>3</td>\n",
              "      <td>【オトナ女子のリアルな悩み】バツイチでは恋はできませんか？</td>\n",
              "    </tr>\n",
              "    <tr>\n",
              "      <th>3501</th>\n",
              "      <td>2</td>\n",
              "      <td>丸山桂里奈、なでしこジャパンのゴールに笑顔なく「すごく複雑な気持ち」</td>\n",
              "    </tr>\n",
              "    <tr>\n",
              "      <th>3502</th>\n",
              "      <td>2</td>\n",
              "      <td>あまりにも美しい日本代表キャプテン、照準は世界</td>\n",
              "    </tr>\n",
              "  </tbody>\n",
              "</table>\n",
              "<p>3503 rows × 2 columns</p>\n",
              "</div>\n",
              "      <button class=\"colab-df-convert\" onclick=\"convertToInteractive('df-68ecac9f-dd19-4e34-bbd0-4faaa0fdd26f')\"\n",
              "              title=\"Convert this dataframe to an interactive table.\"\n",
              "              style=\"display:none;\">\n",
              "        \n",
              "  <svg xmlns=\"http://www.w3.org/2000/svg\" height=\"24px\"viewBox=\"0 0 24 24\"\n",
              "       width=\"24px\">\n",
              "    <path d=\"M0 0h24v24H0V0z\" fill=\"none\"/>\n",
              "    <path d=\"M18.56 5.44l.94 2.06.94-2.06 2.06-.94-2.06-.94-.94-2.06-.94 2.06-2.06.94zm-11 1L8.5 8.5l.94-2.06 2.06-.94-2.06-.94L8.5 2.5l-.94 2.06-2.06.94zm10 10l.94 2.06.94-2.06 2.06-.94-2.06-.94-.94-2.06-.94 2.06-2.06.94z\"/><path d=\"M17.41 7.96l-1.37-1.37c-.4-.4-.92-.59-1.43-.59-.52 0-1.04.2-1.43.59L10.3 9.45l-7.72 7.72c-.78.78-.78 2.05 0 2.83L4 21.41c.39.39.9.59 1.41.59.51 0 1.02-.2 1.41-.59l7.78-7.78 2.81-2.81c.8-.78.8-2.07 0-2.86zM5.41 20L4 18.59l7.72-7.72 1.47 1.35L5.41 20z\"/>\n",
              "  </svg>\n",
              "      </button>\n",
              "      \n",
              "  <style>\n",
              "    .colab-df-container {\n",
              "      display:flex;\n",
              "      flex-wrap:wrap;\n",
              "      gap: 12px;\n",
              "    }\n",
              "\n",
              "    .colab-df-convert {\n",
              "      background-color: #E8F0FE;\n",
              "      border: none;\n",
              "      border-radius: 50%;\n",
              "      cursor: pointer;\n",
              "      display: none;\n",
              "      fill: #1967D2;\n",
              "      height: 32px;\n",
              "      padding: 0 0 0 0;\n",
              "      width: 32px;\n",
              "    }\n",
              "\n",
              "    .colab-df-convert:hover {\n",
              "      background-color: #E2EBFA;\n",
              "      box-shadow: 0px 1px 2px rgba(60, 64, 67, 0.3), 0px 1px 3px 1px rgba(60, 64, 67, 0.15);\n",
              "      fill: #174EA6;\n",
              "    }\n",
              "\n",
              "    [theme=dark] .colab-df-convert {\n",
              "      background-color: #3B4455;\n",
              "      fill: #D2E3FC;\n",
              "    }\n",
              "\n",
              "    [theme=dark] .colab-df-convert:hover {\n",
              "      background-color: #434B5C;\n",
              "      box-shadow: 0px 1px 3px 1px rgba(0, 0, 0, 0.15);\n",
              "      filter: drop-shadow(0px 1px 2px rgba(0, 0, 0, 0.3));\n",
              "      fill: #FFFFFF;\n",
              "    }\n",
              "  </style>\n",
              "\n",
              "      <script>\n",
              "        const buttonEl =\n",
              "          document.querySelector('#df-68ecac9f-dd19-4e34-bbd0-4faaa0fdd26f button.colab-df-convert');\n",
              "        buttonEl.style.display =\n",
              "          google.colab.kernel.accessAllowed ? 'block' : 'none';\n",
              "\n",
              "        async function convertToInteractive(key) {\n",
              "          const element = document.querySelector('#df-68ecac9f-dd19-4e34-bbd0-4faaa0fdd26f');\n",
              "          const dataTable =\n",
              "            await google.colab.kernel.invokeFunction('convertToInteractive',\n",
              "                                                     [key], {});\n",
              "          if (!dataTable) return;\n",
              "\n",
              "          const docLinkHtml = 'Like what you see? Visit the ' +\n",
              "            '<a target=\"_blank\" href=https://colab.research.google.com/notebooks/data_table.ipynb>data table notebook</a>'\n",
              "            + ' to learn more about interactive tables.';\n",
              "          element.innerHTML = '';\n",
              "          dataTable['output_type'] = 'display_data';\n",
              "          await google.colab.output.renderOutput(dataTable, element);\n",
              "          const docLink = document.createElement('div');\n",
              "          docLink.innerHTML = docLinkHtml;\n",
              "          element.appendChild(docLink);\n",
              "        }\n",
              "      </script>\n",
              "    </div>\n",
              "  </div>\n",
              "  "
            ]
          },
          "metadata": {},
          "execution_count": 8
        }
      ]
    },
    {
      "cell_type": "code",
      "metadata": {
        "id": "HOYlk-EscSqd",
        "colab": {
          "base_uri": "https://localhost:8080/",
          "height": 424
        },
        "outputId": "c83590c1-9b6d-488d-d69f-8dc789684de0"
      },
      "source": [
        "test_df = pd.read_csv(\"dev5.tsv\", delimiter='\\t', header=None, names=['label', 'title'])\n",
        "test_df"
      ],
      "execution_count": null,
      "outputs": [
        {
          "output_type": "execute_result",
          "data": {
            "text/plain": [
              "     label                                              title\n",
              "0        4                  ドコモのｓｐモードでまたトラブル発生！　今度はつながらない【話題】\n",
              "1        2                               ダルビッシュ、今季だけで3つの魔球体得へ\n",
              "2        1                      本格的に仕事復帰、マリエが今一番会いたい人は“スギちゃん”\n",
              "3        0                価格が安価で矯正を気づかれない！綺麗な歯並びになれる、歯列矯正の最前線\n",
              "4        2                       先輩・桑田、松井秀喜にズバリ「引退とかは考えなかった？」\n",
              "..     ...                                                ...\n",
              "871      2                                  三浦皇成、ほしのあきとの交際認める\n",
              "872      3  【オトナ女子コミック部】すべての女は“ブス”である。女の毒素が臭気を放つコミックエッセイ『だ...\n",
              "873      4      気をつけて！　スマートフォン、海外パケット定額プランのつもりが約100万円！のナゾ【話題】\n",
              "874      4             KDDIがiPhone向けアプリ「auお客さまサポート」 をリリース【話題】\n",
              "875      0               本体なしでも育成とゲームが可能！ スマートペット育成記 （2）【デジ通】\n",
              "\n",
              "[876 rows x 2 columns]"
            ],
            "text/html": [
              "\n",
              "  <div id=\"df-76933860-2128-4728-8d3e-59b5132552f9\">\n",
              "    <div class=\"colab-df-container\">\n",
              "      <div>\n",
              "<style scoped>\n",
              "    .dataframe tbody tr th:only-of-type {\n",
              "        vertical-align: middle;\n",
              "    }\n",
              "\n",
              "    .dataframe tbody tr th {\n",
              "        vertical-align: top;\n",
              "    }\n",
              "\n",
              "    .dataframe thead th {\n",
              "        text-align: right;\n",
              "    }\n",
              "</style>\n",
              "<table border=\"1\" class=\"dataframe\">\n",
              "  <thead>\n",
              "    <tr style=\"text-align: right;\">\n",
              "      <th></th>\n",
              "      <th>label</th>\n",
              "      <th>title</th>\n",
              "    </tr>\n",
              "  </thead>\n",
              "  <tbody>\n",
              "    <tr>\n",
              "      <th>0</th>\n",
              "      <td>4</td>\n",
              "      <td>ドコモのｓｐモードでまたトラブル発生！　今度はつながらない【話題】</td>\n",
              "    </tr>\n",
              "    <tr>\n",
              "      <th>1</th>\n",
              "      <td>2</td>\n",
              "      <td>ダルビッシュ、今季だけで3つの魔球体得へ</td>\n",
              "    </tr>\n",
              "    <tr>\n",
              "      <th>2</th>\n",
              "      <td>1</td>\n",
              "      <td>本格的に仕事復帰、マリエが今一番会いたい人は“スギちゃん”</td>\n",
              "    </tr>\n",
              "    <tr>\n",
              "      <th>3</th>\n",
              "      <td>0</td>\n",
              "      <td>価格が安価で矯正を気づかれない！綺麗な歯並びになれる、歯列矯正の最前線</td>\n",
              "    </tr>\n",
              "    <tr>\n",
              "      <th>4</th>\n",
              "      <td>2</td>\n",
              "      <td>先輩・桑田、松井秀喜にズバリ「引退とかは考えなかった？」</td>\n",
              "    </tr>\n",
              "    <tr>\n",
              "      <th>...</th>\n",
              "      <td>...</td>\n",
              "      <td>...</td>\n",
              "    </tr>\n",
              "    <tr>\n",
              "      <th>871</th>\n",
              "      <td>2</td>\n",
              "      <td>三浦皇成、ほしのあきとの交際認める</td>\n",
              "    </tr>\n",
              "    <tr>\n",
              "      <th>872</th>\n",
              "      <td>3</td>\n",
              "      <td>【オトナ女子コミック部】すべての女は“ブス”である。女の毒素が臭気を放つコミックエッセイ『だ...</td>\n",
              "    </tr>\n",
              "    <tr>\n",
              "      <th>873</th>\n",
              "      <td>4</td>\n",
              "      <td>気をつけて！　スマートフォン、海外パケット定額プランのつもりが約100万円！のナゾ【話題】</td>\n",
              "    </tr>\n",
              "    <tr>\n",
              "      <th>874</th>\n",
              "      <td>4</td>\n",
              "      <td>KDDIがiPhone向けアプリ「auお客さまサポート」 をリリース【話題】</td>\n",
              "    </tr>\n",
              "    <tr>\n",
              "      <th>875</th>\n",
              "      <td>0</td>\n",
              "      <td>本体なしでも育成とゲームが可能！ スマートペット育成記 （2）【デジ通】</td>\n",
              "    </tr>\n",
              "  </tbody>\n",
              "</table>\n",
              "<p>876 rows × 2 columns</p>\n",
              "</div>\n",
              "      <button class=\"colab-df-convert\" onclick=\"convertToInteractive('df-76933860-2128-4728-8d3e-59b5132552f9')\"\n",
              "              title=\"Convert this dataframe to an interactive table.\"\n",
              "              style=\"display:none;\">\n",
              "        \n",
              "  <svg xmlns=\"http://www.w3.org/2000/svg\" height=\"24px\"viewBox=\"0 0 24 24\"\n",
              "       width=\"24px\">\n",
              "    <path d=\"M0 0h24v24H0V0z\" fill=\"none\"/>\n",
              "    <path d=\"M18.56 5.44l.94 2.06.94-2.06 2.06-.94-2.06-.94-.94-2.06-.94 2.06-2.06.94zm-11 1L8.5 8.5l.94-2.06 2.06-.94-2.06-.94L8.5 2.5l-.94 2.06-2.06.94zm10 10l.94 2.06.94-2.06 2.06-.94-2.06-.94-.94-2.06-.94 2.06-2.06.94z\"/><path d=\"M17.41 7.96l-1.37-1.37c-.4-.4-.92-.59-1.43-.59-.52 0-1.04.2-1.43.59L10.3 9.45l-7.72 7.72c-.78.78-.78 2.05 0 2.83L4 21.41c.39.39.9.59 1.41.59.51 0 1.02-.2 1.41-.59l7.78-7.78 2.81-2.81c.8-.78.8-2.07 0-2.86zM5.41 20L4 18.59l7.72-7.72 1.47 1.35L5.41 20z\"/>\n",
              "  </svg>\n",
              "      </button>\n",
              "      \n",
              "  <style>\n",
              "    .colab-df-container {\n",
              "      display:flex;\n",
              "      flex-wrap:wrap;\n",
              "      gap: 12px;\n",
              "    }\n",
              "\n",
              "    .colab-df-convert {\n",
              "      background-color: #E8F0FE;\n",
              "      border: none;\n",
              "      border-radius: 50%;\n",
              "      cursor: pointer;\n",
              "      display: none;\n",
              "      fill: #1967D2;\n",
              "      height: 32px;\n",
              "      padding: 0 0 0 0;\n",
              "      width: 32px;\n",
              "    }\n",
              "\n",
              "    .colab-df-convert:hover {\n",
              "      background-color: #E2EBFA;\n",
              "      box-shadow: 0px 1px 2px rgba(60, 64, 67, 0.3), 0px 1px 3px 1px rgba(60, 64, 67, 0.15);\n",
              "      fill: #174EA6;\n",
              "    }\n",
              "\n",
              "    [theme=dark] .colab-df-convert {\n",
              "      background-color: #3B4455;\n",
              "      fill: #D2E3FC;\n",
              "    }\n",
              "\n",
              "    [theme=dark] .colab-df-convert:hover {\n",
              "      background-color: #434B5C;\n",
              "      box-shadow: 0px 1px 3px 1px rgba(0, 0, 0, 0.15);\n",
              "      filter: drop-shadow(0px 1px 2px rgba(0, 0, 0, 0.3));\n",
              "      fill: #FFFFFF;\n",
              "    }\n",
              "  </style>\n",
              "\n",
              "      <script>\n",
              "        const buttonEl =\n",
              "          document.querySelector('#df-76933860-2128-4728-8d3e-59b5132552f9 button.colab-df-convert');\n",
              "        buttonEl.style.display =\n",
              "          google.colab.kernel.accessAllowed ? 'block' : 'none';\n",
              "\n",
              "        async function convertToInteractive(key) {\n",
              "          const element = document.querySelector('#df-76933860-2128-4728-8d3e-59b5132552f9');\n",
              "          const dataTable =\n",
              "            await google.colab.kernel.invokeFunction('convertToInteractive',\n",
              "                                                     [key], {});\n",
              "          if (!dataTable) return;\n",
              "\n",
              "          const docLinkHtml = 'Like what you see? Visit the ' +\n",
              "            '<a target=\"_blank\" href=https://colab.research.google.com/notebooks/data_table.ipynb>data table notebook</a>'\n",
              "            + ' to learn more about interactive tables.';\n",
              "          element.innerHTML = '';\n",
              "          dataTable['output_type'] = 'display_data';\n",
              "          await google.colab.output.renderOutput(dataTable, element);\n",
              "          const docLink = document.createElement('div');\n",
              "          docLink.innerHTML = docLinkHtml;\n",
              "          element.appendChild(docLink);\n",
              "        }\n",
              "      </script>\n",
              "    </div>\n",
              "  </div>\n",
              "  "
            ]
          },
          "metadata": {},
          "execution_count": 9
        }
      ]
    },
    {
      "cell_type": "code",
      "metadata": {
        "id": "nEJbAj_zAxR_"
      },
      "source": [
        "# Create datasets (Only take up to max_seq_length words for memory)\n",
        "max_seq_length=50\n",
        "train_text = train_df['title'].tolist()\n",
        "train_text = [' '.join(t.split()[0:max_seq_length]) for t in train_text]\n",
        "train_text = np.array(train_text, dtype=object)\n",
        "train_label = train_df['label'].tolist()\n",
        "\n",
        "test_text = test_df[\"title\"].tolist()\n",
        "test_text = [' '.join(t.split()[0:max_seq_length]) for t in test_text]\n",
        "test_text = np.array(test_text, dtype=object)[:, np.newaxis]\n",
        "test_label = test_df['label'].tolist()"
      ],
      "execution_count": null,
      "outputs": []
    },
    {
      "cell_type": "markdown",
      "metadata": {
        "id": "djv4vpTiAxSC"
      },
      "source": [
        "## 3. 訓練データと検証データを作成します\n"
      ]
    },
    {
      "cell_type": "markdown",
      "metadata": {
        "id": "Uesad5hTbVOg"
      },
      "source": [
        "## 3. Prepare training and test data\n"
      ]
    },
    {
      "cell_type": "code",
      "source": [
        "X_train_raw=train_df.loc[:, 'title']\n",
        "X_train_raw=np.array(X_train_raw)\n",
        "\n",
        "print(X_train_raw.dtype)\n",
        "print(type(X_train_raw))\n",
        "print(np.shape(X_train_raw))\n",
        "print(X_train_raw[0:3])"
      ],
      "metadata": {
        "colab": {
          "base_uri": "https://localhost:8080/"
        },
        "id": "rja8kdkbQl3Q",
        "outputId": "dbaa31a5-8b4d-4fd2-9823-82bfcd03bf3e"
      },
      "execution_count": null,
      "outputs": [
        {
          "output_type": "stream",
          "name": "stdout",
          "text": [
            "object\n",
            "<class 'numpy.ndarray'>\n",
            "(3503,)\n",
            "['月額1,050円でSASディスクを搭載！クラウドプラン 「エクスライト（EX-LITE）」の魅力を探る'\n",
            " '例のあのメニューも！ニコニコ超会議のフードコートメニュー14種類紹介（前半）'\n",
            " '山田孝之と小西真奈美の映画に撮影していない“あるモノ”が映り込んでいた']\n"
          ]
        }
      ]
    },
    {
      "cell_type": "code",
      "source": [
        "y_train=train_df.loc[:, 'label']\n",
        "y_train=np.array(y_train)\n",
        "\n",
        "print(y_train.dtype)\n",
        "print(type(y_train))\n",
        "print(np.shape(y_train))\n",
        "print(y_train[0:3])"
      ],
      "metadata": {
        "colab": {
          "base_uri": "https://localhost:8080/"
        },
        "outputId": "5b71057d-3b82-468d-a427-92fbd0b5f3f9",
        "id": "zZoiVLN2TtKQ"
      },
      "execution_count": null,
      "outputs": [
        {
          "output_type": "stream",
          "name": "stdout",
          "text": [
            "int64\n",
            "<class 'numpy.ndarray'>\n",
            "(3503,)\n",
            "[0 0 1]\n"
          ]
        }
      ]
    },
    {
      "cell_type": "code",
      "metadata": {
        "id": "7jn3DDeJyNVx",
        "colab": {
          "base_uri": "https://localhost:8080/"
        },
        "outputId": "d4a35e9f-d1be-47bc-d16d-3da4396f7e69"
      },
      "source": [
        "X_test_raw=test_df.loc[:, 'title']\n",
        "X_test_raw=np.array(X_test_raw)\n",
        "\n",
        "print(X_test_raw.dtype)\n",
        "print(type(X_test_raw))\n",
        "print(np.shape(X_test_raw))\n",
        "print(X_test_raw[0:3])"
      ],
      "execution_count": null,
      "outputs": [
        {
          "output_type": "stream",
          "name": "stdout",
          "text": [
            "object\n",
            "<class 'numpy.ndarray'>\n",
            "(876,)\n",
            "['ドコモのｓｐモードでまたトラブル発生！\\u3000今度はつながらない【話題】' 'ダルビッシュ、今季だけで3つの魔球体得へ'\n",
            " '本格的に仕事復帰、マリエが今一番会いたい人は“スギちゃん”']\n"
          ]
        }
      ]
    },
    {
      "cell_type": "code",
      "source": [
        "y_test=test_df.loc[:, 'label']\n",
        "y_test=np.array(y_test)\n",
        "\n",
        "print(y_test.dtype)\n",
        "print(type(y_test))\n",
        "print(np.shape(y_test))\n",
        "print(y_test[0:3])"
      ],
      "metadata": {
        "colab": {
          "base_uri": "https://localhost:8080/"
        },
        "id": "q_z_eSUcQ0li",
        "outputId": "4b79cf41-5ad5-4299-bcb4-ea714374b94f"
      },
      "execution_count": null,
      "outputs": [
        {
          "output_type": "stream",
          "name": "stdout",
          "text": [
            "int64\n",
            "<class 'numpy.ndarray'>\n",
            "(876,)\n",
            "[4 2 1]\n"
          ]
        }
      ]
    },
    {
      "cell_type": "markdown",
      "metadata": {
        "id": "cMxgdUeFcCxK"
      },
      "source": [
        "##  4. BERTモデルを構築します"
      ]
    },
    {
      "cell_type": "markdown",
      "metadata": {
        "id": "lZfx-5oeG8MX"
      },
      "source": [
        "##  4. Build BERT model"
      ]
    },
    {
      "cell_type": "code",
      "source": [
        "text_input = tf.keras.layers.Input(shape=(), dtype=tf.string)\n",
        "preprocessor = hub.KerasLayer(\n",
        "    \"https://tfhub.dev/tensorflow/bert_multi_cased_preprocess/3\")\n",
        "encoder_inputs = preprocessor(text_input)\n",
        "encoder = hub.KerasLayer(\n",
        "    \"https://tfhub.dev/tensorflow/bert_multi_cased_L-12_H-768_A-12/4\",\n",
        "    trainable=True)\n",
        "outputs = encoder(encoder_inputs)      # [batch_size, 768].\n",
        "out=Dense(16, activation='relu')(outputs[\"pooled_output\"])\n",
        "output=Dense(5, activation='softmax')(out)\n",
        "model = tf.keras.Model(text_input, output)"
      ],
      "metadata": {
        "id": "Y-4X4SFGkpqr"
      },
      "execution_count": null,
      "outputs": []
    },
    {
      "cell_type": "code",
      "source": [
        "model.summary()"
      ],
      "metadata": {
        "colab": {
          "base_uri": "https://localhost:8080/"
        },
        "id": "gnIVXa4aMkVg",
        "outputId": "e7119810-b447-4c2c-ef77-26acae433249"
      },
      "execution_count": null,
      "outputs": [
        {
          "output_type": "stream",
          "name": "stdout",
          "text": [
            "Model: \"model\"\n",
            "__________________________________________________________________________________________________\n",
            " Layer (type)                   Output Shape         Param #     Connected to                     \n",
            "==================================================================================================\n",
            " input_1 (InputLayer)           [(None,)]            0           []                               \n",
            "                                                                                                  \n",
            " keras_layer (KerasLayer)       {'input_word_ids':   0           ['input_1[0][0]']                \n",
            "                                (None, 128),                                                      \n",
            "                                 'input_type_ids':                                                \n",
            "                                (None, 128),                                                      \n",
            "                                 'input_mask': (Non                                               \n",
            "                                e, 128)}                                                          \n",
            "                                                                                                  \n",
            " keras_layer_1 (KerasLayer)     {'default': (None,   177853441   ['keras_layer[0][0]',            \n",
            "                                768),                             'keras_layer[0][1]',            \n",
            "                                 'sequence_output':               'keras_layer[0][2]']            \n",
            "                                 (None, 128, 768),                                                \n",
            "                                 'encoder_outputs':                                               \n",
            "                                 [(None, 128, 768),                                               \n",
            "                                 (None, 128, 768),                                                \n",
            "                                 (None, 128, 768),                                                \n",
            "                                 (None, 128, 768),                                                \n",
            "                                 (None, 128, 768),                                                \n",
            "                                 (None, 128, 768),                                                \n",
            "                                 (None, 128, 768),                                                \n",
            "                                 (None, 128, 768),                                                \n",
            "                                 (None, 128, 768),                                                \n",
            "                                 (None, 128, 768),                                                \n",
            "                                 (None, 128, 768),                                                \n",
            "                                 (None, 128, 768)],                                               \n",
            "                                 'pooled_output': (                                               \n",
            "                                None, 768)}                                                       \n",
            "                                                                                                  \n",
            " dense (Dense)                  (None, 16)           12304       ['keras_layer_1[0][13]']         \n",
            "                                                                                                  \n",
            " dense_1 (Dense)                (None, 5)            85          ['dense[0][0]']                  \n",
            "                                                                                                  \n",
            "==================================================================================================\n",
            "Total params: 177,865,830\n",
            "Trainable params: 177,865,829\n",
            "Non-trainable params: 1\n",
            "__________________________________________________________________________________________________\n"
          ]
        }
      ]
    },
    {
      "cell_type": "markdown",
      "source": [
        "### モデルの稼働を確認します "
      ],
      "metadata": {
        "id": "iGodnNk9iwnc"
      }
    },
    {
      "cell_type": "markdown",
      "source": [
        "### Check how it works "
      ],
      "metadata": {
        "id": "Mo1fUa89cMv3"
      }
    },
    {
      "cell_type": "code",
      "source": [
        "sentences = tf.constant([\"今回の彼の活躍は称賛に値する\",\"His success this time is commendable\",\"他这次的成功值得称赞\"])\n",
        "print(model(sentences).shape)\n",
        "model(sentences)"
      ],
      "metadata": {
        "colab": {
          "base_uri": "https://localhost:8080/"
        },
        "outputId": "8d537d09-a823-4f5f-8ef2-219f28fe6910",
        "id": "lZdjG5L6k4qV"
      },
      "execution_count": null,
      "outputs": [
        {
          "output_type": "stream",
          "name": "stdout",
          "text": [
            "(3, 5)\n"
          ]
        },
        {
          "output_type": "execute_result",
          "data": {
            "text/plain": [
              "<tf.Tensor: shape=(3, 5), dtype=float32, numpy=\n",
              "array([[0.0249191 , 0.38669425, 0.16490616, 0.20694788, 0.21653251],\n",
              "       [0.02444274, 0.387966  , 0.21414717, 0.14414142, 0.22930267],\n",
              "       [0.04571467, 0.34074455, 0.18099892, 0.21588136, 0.21666054]],\n",
              "      dtype=float32)>"
            ]
          },
          "metadata": {},
          "execution_count": 17
        }
      ]
    },
    {
      "cell_type": "markdown",
      "source": [
        "## 5. モデルを訓練します"
      ],
      "metadata": {
        "id": "g0NEZ6HQlAlH"
      }
    },
    {
      "cell_type": "markdown",
      "source": [
        "## 5. Train the model"
      ],
      "metadata": {
        "id": "jRjW_XrJcT0s"
      }
    },
    {
      "cell_type": "code",
      "metadata": {
        "id": "RR0YFTzslG2e"
      },
      "source": [
        "optimizer = tf.keras.optimizers.Adam(learning_rate=1e-5)\n",
        "model.compile(optimizer=optimizer, loss='sparse_categorical_crossentropy', metrics=['accuracy'])"
      ],
      "execution_count": null,
      "outputs": []
    },
    {
      "cell_type": "code",
      "metadata": {
        "id": "_C1qgzsoX7pw",
        "colab": {
          "base_uri": "https://localhost:8080/"
        },
        "outputId": "46e3c725-0d38-4cd3-b260-a5d28075c4e1"
      },
      "source": [
        "t=time.time()\n",
        "\n",
        "history = model.fit(X_train_raw, y_train, epochs=10, batch_size=16, validation_split=0.25)\n",
        "\n",
        "t2 = time.time()\n",
        "print(round(t2-t, 5), 'Seconds to predict')"
      ],
      "execution_count": null,
      "outputs": [
        {
          "output_type": "stream",
          "name": "stdout",
          "text": [
            "Epoch 1/10\n",
            "165/165 [==============================] - 499s 3s/step - loss: 0.9174 - accuracy: 0.6490 - val_loss: 0.3959 - val_accuracy: 0.8858\n",
            "Epoch 2/10\n",
            "165/165 [==============================] - 488s 3s/step - loss: 0.2685 - accuracy: 0.9208 - val_loss: 0.3188 - val_accuracy: 0.9041\n",
            "Epoch 3/10\n",
            "165/165 [==============================] - 469s 3s/step - loss: 0.1521 - accuracy: 0.9555 - val_loss: 0.3640 - val_accuracy: 0.8904\n",
            "Epoch 4/10\n",
            "165/165 [==============================] - 467s 3s/step - loss: 0.0991 - accuracy: 0.9730 - val_loss: 0.2482 - val_accuracy: 0.9349\n",
            "Epoch 5/10\n",
            "165/165 [==============================] - 465s 3s/step - loss: 0.0720 - accuracy: 0.9791 - val_loss: 0.3168 - val_accuracy: 0.9258\n",
            "Epoch 6/10\n",
            "165/165 [==============================] - 469s 3s/step - loss: 0.0457 - accuracy: 0.9893 - val_loss: 0.3022 - val_accuracy: 0.9326\n",
            "Epoch 7/10\n",
            "165/165 [==============================] - 456s 3s/step - loss: 0.0352 - accuracy: 0.9924 - val_loss: 0.3656 - val_accuracy: 0.9201\n",
            "Epoch 8/10\n",
            "165/165 [==============================] - 463s 3s/step - loss: 0.0256 - accuracy: 0.9935 - val_loss: 0.3073 - val_accuracy: 0.9281\n",
            "Epoch 9/10\n",
            "165/165 [==============================] - 464s 3s/step - loss: 0.0446 - accuracy: 0.9874 - val_loss: 0.3061 - val_accuracy: 0.9372\n",
            "Epoch 10/10\n",
            "165/165 [==============================] - 459s 3s/step - loss: 0.0271 - accuracy: 0.9947 - val_loss: 0.3110 - val_accuracy: 0.9315\n",
            "4700.1133 Seconds to predict\n"
          ]
        }
      ]
    },
    {
      "cell_type": "code",
      "metadata": {
        "id": "-NWr6YSIZVJ9",
        "colab": {
          "base_uri": "https://localhost:8080/",
          "height": 350
        },
        "outputId": "7e184521-1ade-4e2d-d14b-940f40085837"
      },
      "source": [
        "import matplotlib.pyplot as plt\n",
        "\n",
        "acc = history.history['accuracy']\n",
        "val_acc = history.history['val_accuracy']\n",
        "loss = history.history['loss']\n",
        "val_loss = history.history['val_loss']\n",
        "\n",
        "epochs = range(len(acc))\n",
        "\n",
        "plt.figure(figsize=(15,5))\n",
        "\n",
        "plt.subplot(1, 2, 1)\n",
        "plt.plot(epochs, acc, label='Training acc')\n",
        "plt.plot(epochs, val_acc, label='Validation acc')\n",
        "plt.title('Training and validation accuracy')\n",
        "plt.xlabel('epoch')\n",
        "plt.ylabel('accuracy')\n",
        "plt.legend()\n",
        "            \n",
        "plt.subplot(1, 2, 2)\n",
        "plt.plot(epochs, loss, label='Training loss')\n",
        "plt.plot(epochs, val_loss, label='Validation loss')\n",
        "plt.title('Training and validation loss')\n",
        "plt.xlabel('epoch')\n",
        "plt.ylabel('loss')\n",
        "plt.legend()\n",
        "\n",
        "plt.show()"
      ],
      "execution_count": null,
      "outputs": [
        {
          "output_type": "display_data",
          "data": {
            "text/plain": [
              "<Figure size 1080x360 with 2 Axes>"
            ],
            "image/png": "[encoded data removed]"
          },
          "metadata": {
            "needs_background": "light"
          }
        }
      ]
    },
    {
      "cell_type": "markdown",
      "metadata": {
        "id": "ZEW3HPf9Z0y4"
      },
      "source": [
        "## 6. モデルの精度を検証します"
      ]
    },
    {
      "cell_type": "markdown",
      "metadata": {
        "id": "pzIJOHeAcvpW"
      },
      "source": [
        "## 6. Evaluate the model"
      ]
    },
    {
      "cell_type": "code",
      "metadata": {
        "id": "PvSmYxV6Toy0",
        "colab": {
          "base_uri": "https://localhost:8080/"
        },
        "outputId": "53bd974d-8233-4607-d9dd-7714953198b5"
      },
      "source": [
        "loss , accuracy = model.evaluate(X_test_raw,y_test)\n",
        "print(\"\\nloss:{} accuracy:{}\".format(loss, accuracy))"
      ],
      "execution_count": null,
      "outputs": [
        {
          "output_type": "stream",
          "name": "stdout",
          "text": [
            "28/28 [==============================] - 42s 1s/step - loss: 0.3275 - accuracy: 0.9281\n",
            "\n",
            "loss:0.32754844427108765 accuracy:0.9280821681022644\n"
          ]
        }
      ]
    },
    {
      "cell_type": "markdown",
      "source": [
        "\n",
        "This code is solely for educational purposes. The code cannot be used for investments or businesses in practice. Toshi Stats Co.,Ltd. and I do not accept any responsibility or liability for loss or damage occasioned to any person or property through using materials, instructions, methods, algorithm or ideas contained herein, or acting or refraining from acting as a result of such use. Toshi Stats Co.,Ltd. and I expressly disclaim all implied warranties, including merchantability or fitness for any particular purpose. There will be no duty on Toshi Stats Co.,Ltd. and me to correct any errors or defects in the codes and the software\n",
        "\n",
        "Copyright © 2022 ToshiStats Co.,Ltd. All right reserved"
      ],
      "metadata": {
        "id": "goSTSJOdeAXX"
      }
    }
  ]
}
